{
 "cells": [
  {
   "cell_type": "code",
   "execution_count": 45,
   "metadata": {},
   "outputs": [],
   "source": [
    "import pandas as pd\n",
    "import numpy as np\n",
    "from scipy.spatial import distance"
   ]
  },
  {
   "cell_type": "code",
   "execution_count": 214,
   "metadata": {},
   "outputs": [],
   "source": [
    "class kmeans():  \n",
    "    \n",
    "    def __self__(k):\n",
    "        self.cluster = k\n",
    "        self.max_iter = 100\n",
    "\n",
    "    def fit(self, X, k):\n",
    "\n",
    "        converged = False       \n",
    "        X = np.array(X) # convert df to numpy array    \n",
    "                \n",
    "        centroids_idx = np.random.choice(range(X.shape[0]), k) # random initialization of k centroids\n",
    "        centroids = X[[centroids_idx]]\n",
    "        new_centroids = np.zeros((k,X.shape[1]))\n",
    "        iter = 0\n",
    "\n",
    "        while not converged and iter <300:\n",
    "            labels = []\n",
    "            cnt = [[0]] * k\n",
    "            for point in X:\n",
    "                idx = np.argmin([distance.euclidean(i, point) for i in centroids])\n",
    "                new_centroids[idx] = new_centroids[idx] + point\n",
    "                cnt[idx] = [cnt[idx][0]+1]\n",
    "                labels.append(idx)\n",
    "            \n",
    "            new_centroids = new_centroids / np.array(cnt)\n",
    "#             print(centroids)\n",
    "#             print(cnt)\n",
    "            diff = np.array([distance.euclidean(i,j) for i in new_centroids for j in centroids])\n",
    "            centroids = new_centroids\n",
    "            if all(abs(diff) < 0.001): \n",
    "                converged = True\n",
    "                self.labels = labels\n",
    "                self.centroids = centroids\n",
    "            else: \n",
    "                iter += 1\n",
    "                continue\n",
    "                \n",
    "        print(new_centroids)"
   ]
  },
  {
   "cell_type": "code",
   "execution_count": 219,
   "metadata": {},
   "outputs": [
    {
     "name": "stderr",
     "output_type": "stream",
     "text": [
      "/Applications/anaconda3/lib/python3.7/site-packages/ipykernel_launcher.py:13: FutureWarning: Using a non-tuple sequence for multidimensional indexing is deprecated; use `arr[tuple(seq)]` instead of `arr[seq]`. In the future this will be interpreted as an array index, `arr[np.array(seq)]`, which will result either in an error or a different result.\n",
      "  del sys.path[0]\n"
     ]
    },
    {
     "name": "stdout",
     "output_type": "stream",
     "text": [
      "[[ 4.61067983  5.94404623 10.23182619]\n",
      " [ 2.6         4.6        12.4       ]\n",
      " [ 5.18842233  7.19953372  8.89359855]]\n"
     ]
    }
   ],
   "source": [
    "X = pd.DataFrame([[1,2,3],[4,5,6],[7,8,9],[2,4,6],[1,4,5],[3,5,6],[1,2,9],[4,5,20],[1,8,9],[2,4,30],[1,8,5],[3,5,11],[3,2,3],[6,5,6],[9,8,9],[6,4,6],[4,4,5],[3,5,7]],columns=['f1','f2','f3'])\n",
    "mykmeans = kmeans()\n",
    "mykmeans.fit(X, 3)"
   ]
  },
  {
   "cell_type": "code",
   "execution_count": 220,
   "metadata": {},
   "outputs": [
    {
     "data": {
      "text/plain": [
       "array([[ 2.91666667,  4.16666667,  5.58333333],\n",
       "       [ 3.        ,  4.5       , 25.        ],\n",
       "       [ 5.        ,  7.25      ,  9.5       ]])"
      ]
     },
     "execution_count": 220,
     "metadata": {},
     "output_type": "execute_result"
    }
   ],
   "source": [
    "from sklearn.cluster import KMeans\n",
    "kmeans = KMeans(n_clusters=3)\n",
    "kmeans.fit(a)\n",
    "kmeans.cluster_centers_"
   ]
  },
  {
   "cell_type": "code",
   "execution_count": null,
   "metadata": {},
   "outputs": [],
   "source": []
  }
 ],
 "metadata": {
  "kernelspec": {
   "display_name": "Python 3",
   "language": "python",
   "name": "python3"
  },
  "language_info": {
   "codemirror_mode": {
    "name": "ipython",
    "version": 3
   },
   "file_extension": ".py",
   "mimetype": "text/x-python",
   "name": "python",
   "nbconvert_exporter": "python",
   "pygments_lexer": "ipython3",
   "version": "3.7.3"
  }
 },
 "nbformat": 4,
 "nbformat_minor": 4
}
